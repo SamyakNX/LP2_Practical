{
 "cells": [
  {
   "cell_type": "code",
   "execution_count": 2,
   "id": "ed2f2a11",
   "metadata": {},
   "outputs": [
    {
     "name": "stdout",
     "output_type": "stream",
     "text": [
      "Enter the number of cities: 4\n",
      "Enter the distance between 1 and 2 10\n",
      "Enter the distance between 1 and 3 15\n",
      "Enter the distance between 1 and 4 25\n",
      "Enter the distance between 2 and 3 35\n",
      "Enter the distance between 2 and 4 20\n",
      "Enter the distance between 3 and 4 10\n",
      "Enter the start city from 1  to 4 1\n",
      "Tour is:  [1, 2, 4, 3, 1]\n"
     ]
    }
   ],
   "source": [
    "import numpy as np\n",
    "import random\n",
    "\n",
    "def find_nearest_city(current_city,visited_cities, distances):\n",
    "    unvisited_cities = np.where(visited_cities==False)[0]\n",
    "    nearest_city=unvisited_cities[np.argmin(distances[current_city,unvisited_cities])]\n",
    "    return nearest_city\n",
    "\n",
    "def traveling_salesperson(distances):\n",
    "    number_cities = distances.shape[0]\n",
    "    tour = []\n",
    "    visited_cities = np.zeros(number_cities, dtype=bool)\n",
    "    start_city = int(input(\"Enter the start city from 1  to {} \".format(number_cities)))\n",
    "    current_city = start_city\n",
    "    tour.append(start_city - 1)\n",
    "    visited_cities[start_city - 1] = True\n",
    "    for i in range(number_cities - 1):\n",
    "        nearest_city =find_nearest_city(current_city, visited_cities,distances)\n",
    "        current_city = nearest_city\n",
    "        tour.append(nearest_city)\n",
    "        visited_cities[nearest_city]= True\n",
    "    tour.append(start_city - 1)\n",
    "    return tour\n",
    "\n",
    "number_cities = int(input(\"Enter the number of cities: \"))\n",
    "distances=np.zeros((number_cities,number_cities))\n",
    "\n",
    "for i in range(number_cities):\n",
    "    for j in range(i+1,number_cities):\n",
    "        distance=int(input(\"Enter the distance between {} and {} \".format(i+1,j+1)))\n",
    "        distances[i][j]=distance\n",
    "        distances[j][i]=distance\n",
    "tour = traveling_salesperson(distances)\n",
    "\n",
    "print(\"Tour is: \", [x+1 for x in tour])"
   ]
  },
  {
   "cell_type": "code",
   "execution_count": null,
   "id": "69b98040",
   "metadata": {},
   "outputs": [],
   "source": []
  }
 ],
 "metadata": {
  "kernelspec": {
   "display_name": "Python 3 (ipykernel)",
   "language": "python",
   "name": "python3"
  },
  "language_info": {
   "codemirror_mode": {
    "name": "ipython",
    "version": 3
   },
   "file_extension": ".py",
   "mimetype": "text/x-python",
   "name": "python",
   "nbconvert_exporter": "python",
   "pygments_lexer": "ipython3",
   "version": "3.8.10"
  }
 },
 "nbformat": 4,
 "nbformat_minor": 5
}
